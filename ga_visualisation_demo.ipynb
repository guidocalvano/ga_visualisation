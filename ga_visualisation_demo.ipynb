{
 "cells": [
  {
   "cell_type": "code",
   "execution_count": null,
   "id": "e6268388-34c2-4028-a195-3efe392ff30b",
   "metadata": {},
   "outputs": [],
   "source": [
    "%load_ext autoreload\n",
    "%autoreload 2"
   ]
  },
  {
   "cell_type": "code",
   "execution_count": null,
   "id": "17043749-cd78-49c9-ab89-e86b6eedacc7",
   "metadata": {},
   "outputs": [],
   "source": [
    "import ipyreact\n",
    "\n",
    "from pathlib import Path\n"
   ]
  },
  {
   "cell_type": "code",
   "execution_count": null,
   "id": "3faf0ed4-7f3b-465f-8f4a-4c45055061c6",
   "metadata": {},
   "outputs": [],
   "source": [
    "ipyreact.define_module(\"@react-three/fiber\", Path(\"./js/threejs-fiber.rollup.bundle.js\"))\n",
    "ipyreact.define_module(\"@react-three/drei\", Path(\"./js/threejs-drei.rollup.bundle.js\"))"
   ]
  },
  {
   "cell_type": "code",
   "execution_count": null,
   "id": "3b257dc0-36f2-45c8-9e0f-fd3bbe0bdf82",
   "metadata": {},
   "outputs": [],
   "source": [
    "class CameraWidget(ipyreact.Widget):\n",
    "    _esm = \"<div> iets </div\"\n"
   ]
  },
  {
   "cell_type": "code",
   "execution_count": null,
   "id": "71ab1bea-ade9-4efb-b8e7-b4d5854f5f63",
   "metadata": {},
   "outputs": [],
   "source": [
    "CameraWidget()\n"
   ]
  }
 ],
 "metadata": {
  "kernelspec": {
   "display_name": "Python 3 (ipykernel)",
   "language": "python",
   "name": "python3"
  },
  "language_info": {
   "codemirror_mode": {
    "name": "ipython",
    "version": 3
   },
   "file_extension": ".py",
   "mimetype": "text/x-python",
   "name": "python",
   "nbconvert_exporter": "python",
   "pygments_lexer": "ipython3",
   "version": "3.8.13"
  }
 },
 "nbformat": 4,
 "nbformat_minor": 5
}
