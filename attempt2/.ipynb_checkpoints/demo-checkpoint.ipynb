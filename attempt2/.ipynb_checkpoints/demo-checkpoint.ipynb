{
 "cells": [
  {
   "cell_type": "code",
   "execution_count": null,
   "id": "674827a2-b64d-4421-99b5-040150bd868e",
   "metadata": {},
   "outputs": [],
   "source": [
    "%load_ext autoreload\n",
    "%autoreload 2"
   ]
  },
  {
   "cell_type": "code",
   "execution_count": null,
   "id": "5fa4a94e-35d4-41cb-bce7-9c5f91af7131",
   "metadata": {},
   "outputs": [],
   "source": [
    "import ipyreact\n",
    "from pathlib import Path\n",
    "\n"
   ]
  },
  {
   "cell_type": "code",
   "execution_count": null,
   "id": "8d359eaf-ce93-44a3-9ee1-6fcb9d4992a4",
   "metadata": {},
   "outputs": [],
   "source": [
    "from ViewPort import ViewPort\n"
   ]
  },
  {
   "cell_type": "code",
   "execution_count": null,
   "id": "7863e1b2-d76d-4104-bdd7-0ecfe333b9cb",
   "metadata": {},
   "outputs": [],
   "source": [
    "ViewPort()"
   ]
  }
 ],
 "metadata": {
  "kernelspec": {
   "display_name": "Python 3 (ipykernel)",
   "language": "python",
   "name": "python3"
  },
  "language_info": {
   "codemirror_mode": {
    "name": "ipython",
    "version": 3
   },
   "file_extension": ".py",
   "mimetype": "text/x-python",
   "name": "python",
   "nbconvert_exporter": "python",
   "pygments_lexer": "ipython3",
   "version": "3.8.13"
  }
 },
 "nbformat": 4,
 "nbformat_minor": 5
}
