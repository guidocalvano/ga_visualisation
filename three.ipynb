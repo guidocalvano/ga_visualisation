{
 "cells": [
  {
   "cell_type": "code",
   "execution_count": 1,
   "id": "6bdf3cdc-1922-4076-ba21-6b25c44d8b68",
   "metadata": {},
   "outputs": [],
   "source": [
    "%load_ext autoreload\n",
    "%autoreload 2"
   ]
  },
  {
   "cell_type": "code",
   "execution_count": 2,
   "id": "3e1c3ad2-4bfa-4a68-9a19-be7779f66b11",
   "metadata": {},
   "outputs": [],
   "source": [
    "import ipyreact\n",
    "# https://gist.github.com/paddymul/0d2fc609a4d181276ba3ff6aed8f7c01\n",
    "from pathlib import Path\n",
    "\n",
    "# ipy\n",
    "\n",
    "\n",
    "# ipyreact.define_import_map({\n",
    "#     # \"@react-three/fiber\": \"https://esm.sh/@react-three/fiber?external=react,react-dom,react-reconciler,react-reconciler/constant\",\n",
    "#     # \"@react-three/drei\": \"https://esm.sh/@react-three/drei?external=react,react-dom,react-reconciler,react-reconciler/constant\",\n",
    "#     # \"react-d3-library\": \"react-d3-library?external=react,react-dom\",\n",
    "#     # \"htm\": 'https://esm.sh/htm'\n",
    "\n",
    "#     # \"@mui/material/\": \"https://esm.sh/@mui/material@5.11.10&external=react,react-dom/\",\n",
    "#     # \"@mui/icons-material/\": \"https://esm.sh/@mui/icons-material/?external=react,react-dom\",\n",
    "#     # \"canvas-confetti\": \"https://esm.sh/canvas-confetti@1.6.0\",\n",
    "#     \"@react-three/fiber\": Path(\"./jsasdf/threejs-fiber.rollup.bundle.js\"),\n",
    "#     \"@react-three/drei\": Path(\"./vsdbfjs/threejs-drei.rollup.bundle.js\")\n",
    "\n",
    "# })\n"
   ]
  },
  {
   "cell_type": "code",
   "execution_count": 3,
   "id": "a2c727c6-cfa1-4f67-9c9c-e0eccfaadb02",
   "metadata": {},
   "outputs": [
    {
     "data": {
      "application/vnd.jupyter.widget-view+json": {
       "model_id": "e741e5a1eceb4ba18f1c03eea5e2f9db",
       "version_major": 2,
       "version_minor": 0
      },
      "text/plain": [
       "Module(code='import * as React from \\'react\\';\\nimport React__default, { useReducer, useRef, useDebugValue, us…"
      ]
     },
     "execution_count": 3,
     "metadata": {},
     "output_type": "execute_result"
    }
   ],
   "source": [
    "ipyreact.define_module(\"@react-three/fiber\", Path(\"./js/threejs-fiber.rollup.bundle.js\"))"
   ]
  },
  {
   "cell_type": "code",
   "execution_count": 4,
   "id": "a35c2cf2-cdbc-4d21-8bd3-8e3d82096c60",
   "metadata": {},
   "outputs": [
    {
     "data": {
      "application/vnd.jupyter.widget-view+json": {
       "model_id": "524a3e4c66b94c09b161dc1e388af810",
       "version_major": 2,
       "version_minor": 0
      },
      "text/plain": [
       "Module(code='import * as React from \\'react\\';\\nimport React__default, { useReducer, useRef, useDebugValue as …"
      ]
     },
     "execution_count": 4,
     "metadata": {},
     "output_type": "execute_result"
    }
   ],
   "source": [
    "ipyreact.define_module(\"@react-three/drei\", Path(\"./js/threejs-drei.rollup.bundle.js\"))"
   ]
  },
  {
   "cell_type": "code",
   "execution_count": 5,
   "id": "fd6df0ee-6fb5-4002-b7d6-25e40cf1da82",
   "metadata": {},
   "outputs": [],
   "source": [
    "from traitlets import default\n",
    "\n",
    "\n",
    "class BoxWidget(ipyreact.Widget):\n",
    "    _esm = \"\"\"\n",
    "        import React, { useRef, useState } from \"react\"\n",
    "        import { Canvas, useFrame, useThree } from '@react-three/fiber'\n",
    "        import { OrbitControls } from \"@react-three/fiber\";\n",
    "        import { extend } from '@react-three/fiber';\n",
    "\n",
    "        // import htm;\n",
    "        \n",
    "        function Box({position, color}) {\n",
    "          const ref = useRef()\n",
    "          useFrame(() => (ref.current.rotation.x = ref.current.rotation.y += 0.01))\n",
    "\n",
    "          return (<mesh position={position} ref={ref}>\n",
    "              <boxGeometry args={[1, 1, 1]} attach=\"geometry\" />\n",
    "              <meshPhongMaterial color={color} attach=\"material\" />\n",
    "            </mesh>\n",
    "          )\n",
    "        };\n",
    "\n",
    "        extend({Box});\n",
    "\n",
    "        export default Box;\n",
    "\n",
    "    \"\"\""
   ]
  },
  {
   "cell_type": "code",
   "execution_count": 7,
   "id": "c23ffff2-038b-4c64-932b-f6cf561974a6",
   "metadata": {},
   "outputs": [
    {
     "data": {
      "application/vnd.jupyter.widget-view+json": {
       "model_id": "6788ca5b9e0d492bad64c54a0c0aa559",
       "version_major": 2,
       "version_minor": 1
      },
      "text/plain": [
       "Widget(children=[Widget(children=[BoxWidget(props={'position': [-1, 0, 3], 'color': '#ffa36e'}), Widget(props=…"
      ]
     },
     "execution_count": 7,
     "metadata": {},
     "output_type": "execute_result"
    }
   ],
   "source": [
    "import random\n",
    "\n",
    "\n",
    "def random_color():\n",
    "    # Generates a random hex color code\n",
    "    return \"#\" + ''.join([random.choice('0123456789ABCDEF') for _ in range(6)])\n",
    "\n",
    "def add(_ignore=None):\n",
    "    x = random.random() * 4 - 2\n",
    "    z = random.random() * 4 - 1\n",
    "    color = random_color()  # Call the random_color function to get a random color\n",
    "    box = BoxWidget(props=dict(position=[x, 0, z], color=color))  # Use the random color for the box\n",
    "    canvas.children = [*canvas.children, box]\n",
    "\n",
    "canvas = ipyreact.Widget(_type=\"Canvas\", _module=\"@react-three/fiber\",\n",
    "        events=dict(onClick=add),\n",
    "        camera={ \"fov\": 75, \"position\": [100, 0, 120] },\n",
    "        children=[\n",
    "            BoxWidget(props=dict(position=[-1, 0, 3], color=\"#ffa36e\")),\n",
    "            # CameraWidget(),\n",
    "            # BoxWidget(props=dict(position=[1, 0, 3], color=\"#f56f42\")),\n",
    "            # ipyreact.Widget(_type=\"OrbitControls\", _module=\"@react-three/fiber\"),\n",
    "            # seems that if it starts with a small letter, it's globally available, and not exported\n",
    "            # from the threejs-fiber module, therefore we do not pass _module=\"threejs-fiber\"\n",
    "            ipyreact.Widget(_type=\"directionalLight\",\n",
    "                           props=dict(color=\"#ffffff\", intensity=1, position=[-1, 2, 4]))\n",
    "       ]\n",
    ")\n",
    "\n",
    "# the canvas fills the parent, so wrap it in a div with the fixed height\n",
    "ipyreact.Widget(_type=\"div\", props=dict(style=dict(height=\"600px\")), children=[canvas])"
   ]
  },
  {
   "cell_type": "code",
   "execution_count": 8,
   "id": "68255bcc-55e9-436e-b2bf-2bf8a40b6bcd",
   "metadata": {},
   "outputs": [
    {
     "ename": "SyntaxError",
     "evalue": "positional argument follows keyword argument (1186709870.py, line 1)",
     "output_type": "error",
     "traceback": [
      "\u001b[0;36m  Cell \u001b[0;32mIn[8], line 1\u001b[0;36m\u001b[0m\n\u001b[0;31m    canvas = ipyreact.Widget(_type=\"Canvas\", _module=\"@react-three/fiber\", childre)\u001b[0m\n\u001b[0m                                                                                  ^\u001b[0m\n\u001b[0;31mSyntaxError\u001b[0m\u001b[0;31m:\u001b[0m positional argument follows keyword argument\n"
     ]
    }
   ],
   "source": [
    "canvas = ipyreact.Widget(_type=\"Canvas\", _module=\"@react-three/fiber\", childre)"
   ]
  },
  {
   "cell_type": "code",
   "execution_count": 16,
   "id": "51b0079d-1ff6-4332-a049-313410e11793",
   "metadata": {},
   "outputs": [],
   "source": [
    "from traitlets import default\n",
    "\n",
    "\n",
    "class CameraWidget(ipyreact.Widget):\n",
    "    _esm = \"\"\"\n",
    "        import React, { useRef, useState } from \"react\"\n",
    "        import { Canvas, useFrame, useThree } from '@react-three/fiber'\n",
    "        import { OrbitControls } from \"@react-three/fiber\";\n",
    "        import { extend } from '@react-three/fiber';\n",
    "        import { PerspectiveCamera, OrthographicCamera } from '@react-three/drei'\n",
    "\n",
    "        const Box = (props) => {\n",
    "          const boxRef = useRef();\n",
    "        \n",
    "          return (\n",
    "            <mesh ref={boxRef} {...props}>\n",
    "              <boxGeometry args={[100, 100, 100]} />\n",
    "              <meshStandardMaterial attach=\"material\" color={\"red\"} />\n",
    "            </mesh>\n",
    "          );\n",
    "        };\n",
    "\n",
    "        \n",
    "        function Camera() {\n",
    "          const canvasRef = useRef();\n",
    "          const camRef = useRef();\n",
    "          \n",
    "\n",
    "          return (\n",
    "                \n",
    "             <Canvas ref={canvasRef} camera={{ fov: 75, near: 0.1, far: 1000, position: [0, 0, -5]}} >\n",
    "\n",
    "              <ambientLight intensity={0.25} />\n",
    "              <pointLight intensity={0.75} position={[500, 500, 1000]} />\n",
    "        \n",
    "              <Box position={[70, 70, 0]} />\n",
    "              <Box position={[-70, 70, 0]} />\n",
    "              <Box position={[70, -70, 0]} />\n",
    "              <Box position={[-70, -70, 0]} />\n",
    "        \n",
    "        \n",
    "        \n",
    "            </Canvas>\n",
    "          )\n",
    "        };\n",
    "\n",
    "\n",
    "        export default Camera;\n",
    "\n",
    "    \"\"\""
   ]
  },
  {
   "cell_type": "code",
   "execution_count": 17,
   "id": "e74b7987-0586-48da-a306-ae51d732c288",
   "metadata": {},
   "outputs": [
    {
     "data": {
      "application/vnd.jupyter.widget-view+json": {
       "model_id": "845f58564c7243caa1ee12807e99246d",
       "version_major": 2,
       "version_minor": 1
      },
      "text/plain": [
       "CameraWidget()"
      ]
     },
     "execution_count": 17,
     "metadata": {},
     "output_type": "execute_result"
    }
   ],
   "source": [
    "CameraWidget()"
   ]
  }
 ],
 "metadata": {
  "kernelspec": {
   "display_name": "Python 3 (ipykernel)",
   "language": "python",
   "name": "python3"
  },
  "language_info": {
   "codemirror_mode": {
    "name": "ipython",
    "version": 3
   },
   "file_extension": ".py",
   "mimetype": "text/x-python",
   "name": "python",
   "nbconvert_exporter": "python",
   "pygments_lexer": "ipython3",
   "version": "3.12.7"
  }
 },
 "nbformat": 4,
 "nbformat_minor": 5
}
