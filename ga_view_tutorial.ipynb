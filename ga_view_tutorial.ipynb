{
 "cells": [
  {
   "cell_type": "code",
   "execution_count": null,
   "id": "7b282858-85d3-4a46-a34f-6bcac0695690",
   "metadata": {},
   "outputs": [],
   "source": [
    "%load_ext autoreload\n",
    "%autoreload 2"
   ]
  },
  {
   "cell_type": "code",
   "execution_count": null,
   "id": "d2926948-df53-4b7f-a4c7-edc1a0ce862c",
   "metadata": {},
   "outputs": [],
   "source": [
    "import ipyreact\n",
    "from pathlib import Path\n",
    "\n",
    "ipyreact.define_module(\"three\", Path(\"./js/threejs.rollup.bundle.js\"))\n",
    "\n",
    "ipyreact.define_module(\"@react-three/fiber\", Path(\"./js/threejs-fiber.rollup.bundle.js\"))\n",
    "ipyreact.define_module(\"@react-three/drei\", Path(\"./js/threejs-drei.rollup.bundle.js\"))"
   ]
  },
  {
   "cell_type": "code",
   "execution_count": null,
   "id": "633cce37-d5b0-4281-8ae3-924e906150a8",
   "metadata": {},
   "outputs": [],
   "source": [
    "# from py import Canvas\n",
    "# Canvas()"
   ]
  },
  {
   "cell_type": "code",
   "execution_count": null,
   "id": "abcca937-36f7-4a7e-8547-69e82d0b52e0",
   "metadata": {},
   "outputs": [],
   "source": [
    "\n",
    "from traitlets import Float\n",
    "class Canvas(ipyreact.Widget):\n",
    "    # dolly = Float(.250).tag(sync=True)\n",
    "    \n",
    "\n",
    "    _esm = Path('./py') / 'Canvas.tsx'\n",
    "\n",
    "c = Canvas()\n",
    "c"
   ]
  },
  {
   "cell_type": "code",
   "execution_count": null,
   "id": "1c456ef5-9595-4d26-a4c6-eb1b92633faf",
   "metadata": {},
   "outputs": [],
   "source": [
    "c.dolly = 1"
   ]
  },
  {
   "cell_type": "code",
   "execution_count": null,
   "id": "3694475a-49e5-4d64-9fe0-d76982b9c362",
   "metadata": {},
   "outputs": [],
   "source": []
  }
 ],
 "metadata": {
  "kernelspec": {
   "display_name": "Python 3 (ipykernel)",
   "language": "python",
   "name": "python3"
  },
  "language_info": {
   "codemirror_mode": {
    "name": "ipython",
    "version": 3
   },
   "file_extension": ".py",
   "mimetype": "text/x-python",
   "name": "python",
   "nbconvert_exporter": "python",
   "pygments_lexer": "ipython3",
   "version": "3.8.13"
  }
 },
 "nbformat": 4,
 "nbformat_minor": 5
}
