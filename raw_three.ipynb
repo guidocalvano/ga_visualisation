{
 "cells": [
  {
   "cell_type": "code",
   "execution_count": null,
   "id": "48aedfbb-8a18-4b05-8d2f-785b8fc78448",
   "metadata": {},
   "outputs": [],
   "source": [
    "%load_ext autoreload\n",
    "%autoreload 2"
   ]
  },
  {
   "cell_type": "code",
   "execution_count": null,
   "id": "e050f537-0f2f-4949-97a3-bb1d2762ceb6",
   "metadata": {},
   "outputs": [],
   "source": [
    "import ipyreact\n",
    "from pathlib import Path\n"
   ]
  },
  {
   "cell_type": "code",
   "execution_count": null,
   "id": "99051ae6-7d1a-4e47-af4b-ee4503121f29",
   "metadata": {},
   "outputs": [],
   "source": [
    "from traitlets import default\n",
    "\n",
    "\n",
    "class BoxWidget(ipyreact.Widget):\n",
    "    _esm = \"\"\"\n",
    "        import React, { useRef, useState } from \"react\"\n",
    "        import { Canvas, useFrame, useThree } from '@react-three/fiber'\n",
    "        import { OrbitControls } from \"@react-three/fiber\";\n",
    "        import { extend } from '@react-three/fiber';\n",
    "\n",
    "        // import htm;\n",
    "        \n",
    "        function Something({position, color}) {\n",
    "          const ref = useRef()\n",
    "          //useFrame(() => (ref.current.rotation.x = ref.current.rotation.y += 0.01))\n",
    "\n",
    "          return (<div> iets </div>)\n",
    "        };\n",
    "\n",
    "        extend({Something});\n",
    "\n",
    "        export default Something;\n",
    "\n",
    "    \"\"\""
   ]
  },
  {
   "cell_type": "code",
   "execution_count": null,
   "id": "1b8c150b-7301-4963-b378-c7921d9f685a",
   "metadata": {},
   "outputs": [],
   "source": [
    "BoxWidget()"
   ]
  },
  {
   "cell_type": "markdown",
   "id": "f1be00eb-741e-4235-a613-096d2ab4c36c",
   "metadata": {},
   "source": [
    "# "
   ]
  }
 ],
 "metadata": {
  "kernelspec": {
   "display_name": "Python 3 (ipykernel)",
   "language": "python",
   "name": "python3"
  },
  "language_info": {
   "codemirror_mode": {
    "name": "ipython",
    "version": 3
   },
   "file_extension": ".py",
   "mimetype": "text/x-python",
   "name": "python",
   "nbconvert_exporter": "python",
   "pygments_lexer": "ipython3",
   "version": "3.8.13"
  }
 },
 "nbformat": 4,
 "nbformat_minor": 5
}
